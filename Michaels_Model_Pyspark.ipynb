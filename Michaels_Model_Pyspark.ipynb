{
 "cells": [
  {
   "cell_type": "markdown",
   "metadata": {},
   "source": [
    "# Michaels Model Report"
   ]
  },
  {
   "cell_type": "code",
   "execution_count": 89,
   "metadata": {},
   "outputs": [],
   "source": [
    "import re\n",
    "from pyspark.sql import SparkSession\n",
    "from pyspark.ml.classification import RandomForestClassifier\n",
    "from pyspark.ml.feature import VectorAssembler\n",
    "spark = SparkSession.builder.appName('app').getOrCreate()"
   ]
  },
  {
   "cell_type": "markdown",
   "metadata": {},
   "source": [
    "Creating a list of model labels"
   ]
  },
  {
   "cell_type": "code",
   "execution_count": 90,
   "metadata": {},
   "outputs": [],
   "source": [
    "def listOfModels(targets):\n",
    "    _models = []\n",
    "    for i in range(0, len(targets)):\n",
    "        _models.append(targetColumns[i][0:3])\n",
    "    return _models"
   ]
  },
  {
   "cell_type": "markdown",
   "metadata": {},
   "source": [
    "* selecting features for each model.\n",
    "* model columns will be contained in a list `n x 1`\n",
    "* where `n` is the number of models to be built.\n",
    "* The first entry in each row is the label for the target column.\n",
    "* The rest of the entries will be the labels for the feature vectors.\n",
    "* `featuresByModel` is a nested list containing feature columns for each category"
   ]
  },
  {
   "cell_type": "code",
   "execution_count": 91,
   "metadata": {},
   "outputs": [],
   "source": [
    "def modelColumnCreator(_modelNames, _targets, _features):\n",
    "    \n",
    "    _featuresByModel = []\n",
    "    for i in _modelNames: \n",
    "        midList = []\n",
    "        midList = columnByModel(_targets, midList, i)\n",
    "        midList = secondFeatureDeletion(_features, midList, i)\n",
    "        _featuresByModel.append(midList)\n",
    "    \n",
    "    return _featuresByModel\n"
   ]
  },
  {
   "cell_type": "code",
   "execution_count": 92,
   "metadata": {},
   "outputs": [],
   "source": [
    "def columnByModel(_targets, _midList, i):\n",
    "\n",
    "    for j in range(0, len(_targets)):\n",
    "            if _targets[j].find(i) != -1:\n",
    "                _midList.append(_targets[j])\n",
    "                break\n",
    "            else:\n",
    "                continue\n",
    "    return _midList\n"
   ]
  },
  {
   "cell_type": "markdown",
   "metadata": {},
   "source": [
    "*`listIntersect` is a simple function to check if there is a common element in two lists*"
   ]
  },
  {
   "cell_type": "code",
   "execution_count": 93,
   "metadata": {},
   "outputs": [],
   "source": [
    "def listIntersect(list1, list2):\n",
    "    _list1 = list1\n",
    "    _list2 = list2\n",
    "    for i in _list1:\n",
    "        for j in _list2:\n",
    "            if i==j:\n",
    "                return True\n",
    "    return False"
   ]
  },
  {
   "cell_type": "code",
   "execution_count": 94,
   "metadata": {},
   "outputs": [],
   "source": [
    "def initialFeatureDeletion(_df):\n",
    "    _df = _df.drop('LAST_SHOP_DT')\n",
    "    _df = _df.drop('FIRST_SHOP_DT')\n",
    "    _df = _df.drop('LAST_SHOP_DT1')\n",
    "    _df = _df.drop('LAST_SHOP_IDNT')\n",
    "    _df = _df.drop('INDIV_ID')\n",
    "    _df = _df.drop('CA_VALID_EMAIL_FLG')\n",
    "    return _df\n"
   ]
  },
  {
   "cell_type": "code",
   "execution_count": 95,
   "metadata": {},
   "outputs": [],
   "source": [
    "def secondFeatureDeletion(_features, _midList, i):\n",
    "    for j in range(0, len(_features)):\n",
    "            if (_features[j].find(i) != -1) & (_features[j].find('APP') == -1) & (_features[j].find('WEB') == -1) & (_features[j].find('RECENCY') == -1):\n",
    "                _midList.append(_features[j])\n",
    "    return _midList"
   ]
  },
  {
   "cell_type": "code",
   "execution_count": 96,
   "metadata": {},
   "outputs": [],
   "source": [
    "def targetColumnSelector(_columns):\n",
    "    _columnsList = []\n",
    "    for i in _columns:\n",
    "        if re.search('D\\d\\d_IND$', i):\n",
    "            _columnsList.append(i)\n",
    "    return _columnsList"
   ]
  },
  {
   "cell_type": "code",
   "execution_count": 97,
   "metadata": {},
   "outputs": [],
   "source": [
    "def featureColumnSelector(_columns):\n",
    "    _columnsList = []\n",
    "    for i in _columns:\n",
    "        if not re.search('D\\d\\d_IND$', i):\n",
    "            _columnsList.append(i)\n",
    "    return _columnsList"
   ]
  },
  {
   "cell_type": "code",
   "execution_count": 98,
   "metadata": {},
   "outputs": [],
   "source": [
    "def accumulateGuesses(_dict):\n",
    "    _tempList = []\n",
    "    for j in _dict.keys():\n",
    "        if _dict[j][1] <= 0.5:\n",
    "            _tempList.append([j, _dict[j][1]])\n",
    "    return _tempList"
   ]
  },
  {
   "cell_type": "code",
   "execution_count": 99,
   "metadata": {},
   "outputs": [],
   "source": [
    "def createFinalGuesses(_customer_dict, standardGuesses):\n",
    "    _finalGuesses = {}\n",
    "    for i in _customer_dict.keys(): #len(guessList)\n",
    "        tempList = accumulateGuesses(_customer_dict[i])\n",
    "        \n",
    "        if len(tempList) < 5:\n",
    "            tempList = padToFive(tempList, standardGuesses)\n",
    "        \n",
    "        _finalGuesses[i] = chooseGuesses(tempList)\n",
    "    return _finalGuesses"
   ]
  },
  {
   "cell_type": "code",
   "execution_count": 100,
   "metadata": {},
   "outputs": [],
   "source": [
    "def padToFive(_tempList, _standardGuesses):\n",
    "    for cat in _standardGuesses:\n",
    "        _itemList = [_item[0] for _item in _tempList]\n",
    "        if cat not in _itemList:\n",
    "            _tempList.append([cat, 0.5]) \n",
    "        if len(_tempList) == 5:\n",
    "            break\n",
    "    return _tempList"
   ]
  },
  {
   "cell_type": "code",
   "execution_count": 101,
   "metadata": {},
   "outputs": [],
   "source": [
    "def chooseGuesses(_tempList):\n",
    "    _tempList = sorted(_tempList ,key=lambda x: x[1])\n",
    "    _tempList1 = [_item[0] for _item in _tempList]  \n",
    "    return _tempList1[:5]"
   ]
  },
  {
   "cell_type": "code",
   "execution_count": 102,
   "metadata": {},
   "outputs": [],
   "source": [
    "def createActualValues(_customer_dict):\n",
    "    _actual = {}\n",
    "    for i in _customer_dict.keys():\n",
    "        _tempList = []\n",
    "        for j in _customer_dict[i].keys():\n",
    "            if _customer_dict[i][j][0] == 1:\n",
    "                _tempList.append(j)\n",
    "        _actual[i] = _tempList\n",
    "    return _actual"
   ]
  },
  {
   "cell_type": "code",
   "execution_count": 103,
   "metadata": {},
   "outputs": [],
   "source": [
    "def getFinalScore(_finalGuesses, _actual):\n",
    "    total = len(actual)\n",
    "    count = 0\n",
    "    for i in finalGuesses.keys():\n",
    "        listA = finalGuesses[i]\n",
    "        listB = actual[i]\n",
    "        if listIntersect(listA, listB):\n",
    "            count += 1\n",
    "    return (round(count/total, 3)*100)"
   ]
  },
  {
   "cell_type": "code",
   "execution_count": 104,
   "metadata": {},
   "outputs": [],
   "source": [
    "df = spark.read.csv('10000.csv', header=True, inferSchema=True)"
   ]
  },
  {
   "cell_type": "markdown",
   "metadata": {},
   "source": [
    "* `targetColumns` contains the 44 categories\n",
    "* `featureColumns` contains the 1600 remaining columns in the dataset"
   ]
  },
  {
   "cell_type": "code",
   "execution_count": 105,
   "metadata": {},
   "outputs": [],
   "source": [
    "df1 = initialFeatureDeletion(df)\n",
    "columns = df1.columns\n",
    "targetColumns = targetColumnSelector(columns)\n",
    "featureColumns = featureColumnSelector(columns)"
   ]
  },
  {
   "cell_type": "markdown",
   "metadata": {},
   "source": [
    "* creating a list of the model labels\n",
    "* this is used to select features for each model"
   ]
  },
  {
   "cell_type": "code",
   "execution_count": 106,
   "metadata": {},
   "outputs": [],
   "source": [
    "modelList = listOfModels(targetColumns)"
   ]
  },
  {
   "cell_type": "markdown",
   "metadata": {},
   "source": [
    "* creating list of column names for each model\n",
    "* first entry in each row is the target label, the rest are feature labels\n",
    "* there is one row per model"
   ]
  },
  {
   "cell_type": "code",
   "execution_count": 107,
   "metadata": {},
   "outputs": [],
   "source": [
    "featuresByModel = modelColumnCreator(modelList, targetColumns, featureColumns)"
   ]
  },
  {
   "cell_type": "markdown",
   "metadata": {},
   "source": [
    "Splitting 80-20"
   ]
  },
  {
   "cell_type": "code",
   "execution_count": 108,
   "metadata": {},
   "outputs": [],
   "source": [
    "train_df, test_df = df1.randomSplit((0.8, 0.2))"
   ]
  },
  {
   "cell_type": "markdown",
   "metadata": {},
   "source": [
    "Fill the null values with 0"
   ]
  },
  {
   "cell_type": "code",
   "execution_count": 109,
   "metadata": {},
   "outputs": [],
   "source": [
    "train_df = train_df.na.fill(0)\n",
    "test_df = test_df.na.fill(0)"
   ]
  },
  {
   "cell_type": "code",
   "execution_count": 110,
   "metadata": {},
   "outputs": [],
   "source": [
    "emailAndTarget = targetColumns\n",
    "emailAndTarget.append('EMAIL_ID')\n",
    "act_df = test_df.select(emailAndTarget).cache()"
   ]
  },
  {
   "cell_type": "markdown",
   "metadata": {},
   "source": [
    "### Iterating over all the `featuresByModel`and training individual categories\n",
    "* We cached the results regularly,this reduced the training time per model by 22 seconds. (2.3 times faster)"
   ]
  },
  {
   "cell_type": "code",
   "execution_count": 111,
   "metadata": {},
   "outputs": [
    {
     "name": "stdout",
     "output_type": "stream",
     "text": [
      "Training  D18_IND  ,Category:  1\n",
      "\tTesting  D18_IND\n",
      "\tCollecting  D18_IND\n",
      "\tCreating/Updating Dictionary..\n",
      "\n",
      "Training  D19_IND  ,Category:  2\n",
      "\tTesting  D19_IND\n",
      "\tCollecting  D19_IND\n",
      "\tCreating/Updating Dictionary..\n",
      "\n",
      "Training  D20_IND  ,Category:  3\n",
      "\tTesting  D20_IND\n",
      "\tCollecting  D20_IND\n",
      "\tCreating/Updating Dictionary..\n",
      "\n",
      "Training  D21_IND  ,Category:  4\n",
      "\tTesting  D21_IND\n",
      "\tCollecting  D21_IND\n",
      "\tCreating/Updating Dictionary..\n",
      "\n",
      "Training  D22_IND  ,Category:  5\n",
      "\tTesting  D22_IND\n",
      "\tCollecting  D22_IND\n",
      "\tCreating/Updating Dictionary..\n",
      "\n",
      "Training  D23_IND  ,Category:  6\n",
      "\tTesting  D23_IND\n",
      "\tCollecting  D23_IND\n",
      "\tCreating/Updating Dictionary..\n",
      "\n",
      "Training  D24_IND  ,Category:  7\n",
      "\tTesting  D24_IND\n",
      "\tCollecting  D24_IND\n",
      "\tCreating/Updating Dictionary..\n",
      "\n",
      "Training  D25_IND  ,Category:  8\n",
      "\tTesting  D25_IND\n",
      "\tCollecting  D25_IND\n",
      "\tCreating/Updating Dictionary..\n",
      "\n",
      "Training  D26_IND  ,Category:  9\n",
      "\tTesting  D26_IND\n",
      "\tCollecting  D26_IND\n",
      "\tCreating/Updating Dictionary..\n",
      "\n",
      "Training  D28_IND  ,Category:  10\n",
      "\tTesting  D28_IND\n",
      "\tCollecting  D28_IND\n",
      "\tCreating/Updating Dictionary..\n",
      "\n",
      "Training  D29_IND  ,Category:  11\n",
      "\tTesting  D29_IND\n",
      "\tCollecting  D29_IND\n",
      "\tCreating/Updating Dictionary..\n",
      "\n",
      "Training  D30_IND  ,Category:  12\n",
      "\tTesting  D30_IND\n",
      "\tCollecting  D30_IND\n",
      "\tCreating/Updating Dictionary..\n",
      "\n",
      "Training  D32_IND  ,Category:  13\n",
      "\tTesting  D32_IND\n",
      "\tCollecting  D32_IND\n",
      "\tCreating/Updating Dictionary..\n",
      "\n",
      "Training  D33_IND  ,Category:  14\n",
      "\tTesting  D33_IND\n",
      "\tCollecting  D33_IND\n",
      "\tCreating/Updating Dictionary..\n",
      "\n",
      "Training  D35_IND  ,Category:  15\n",
      "\tTesting  D35_IND\n",
      "\tCollecting  D35_IND\n",
      "\tCreating/Updating Dictionary..\n",
      "\n",
      "Training  D36_IND  ,Category:  16\n",
      "\tTesting  D36_IND\n",
      "\tCollecting  D36_IND\n",
      "\tCreating/Updating Dictionary..\n",
      "\n",
      "Training  D38_IND  ,Category:  17\n",
      "\tTesting  D38_IND\n",
      "\tCollecting  D38_IND\n",
      "\tCreating/Updating Dictionary..\n",
      "\n",
      "Training  D40_IND  ,Category:  18\n",
      "\tTesting  D40_IND\n",
      "\tCollecting  D40_IND\n",
      "\tCreating/Updating Dictionary..\n",
      "\n",
      "Training  D41_IND  ,Category:  19\n",
      "\tTesting  D41_IND\n",
      "\tCollecting  D41_IND\n",
      "\tCreating/Updating Dictionary..\n",
      "\n",
      "Training  D42_IND  ,Category:  20\n",
      "\tTesting  D42_IND\n",
      "\tCollecting  D42_IND\n",
      "\tCreating/Updating Dictionary..\n",
      "\n",
      "Training  D43_IND  ,Category:  21\n",
      "\tTesting  D43_IND\n",
      "\tCollecting  D43_IND\n",
      "\tCreating/Updating Dictionary..\n",
      "\n",
      "Training  D44_IND  ,Category:  22\n",
      "\tTesting  D44_IND\n",
      "\tCollecting  D44_IND\n",
      "\tCreating/Updating Dictionary..\n",
      "\n",
      "Training  D46_IND  ,Category:  23\n",
      "\tTesting  D46_IND\n",
      "\tCollecting  D46_IND\n",
      "\tCreating/Updating Dictionary..\n",
      "\n",
      "Training  D51_IND  ,Category:  24\n",
      "\tTesting  D51_IND\n",
      "\tCollecting  D51_IND\n",
      "\tCreating/Updating Dictionary..\n",
      "\n",
      "Training  D52_IND  ,Category:  25\n",
      "\tTesting  D52_IND\n",
      "\tCollecting  D52_IND\n",
      "\tCreating/Updating Dictionary..\n",
      "\n",
      "Training  D54_IND  ,Category:  26\n",
      "\tTesting  D54_IND\n",
      "\tCollecting  D54_IND\n",
      "\tCreating/Updating Dictionary..\n",
      "\n",
      "Training  D55_IND  ,Category:  27\n",
      "\tTesting  D55_IND\n",
      "\tCollecting  D55_IND\n",
      "\tCreating/Updating Dictionary..\n",
      "\n",
      "Training  D56_IND  ,Category:  28\n",
      "\tTesting  D56_IND\n",
      "\tCollecting  D56_IND\n",
      "\tCreating/Updating Dictionary..\n",
      "\n",
      "Training  D57_IND  ,Category:  29\n",
      "\tTesting  D57_IND\n",
      "\tCollecting  D57_IND\n",
      "\tCreating/Updating Dictionary..\n",
      "\n",
      "Training  D58_IND  ,Category:  30\n",
      "\tTesting  D58_IND\n",
      "\tCollecting  D58_IND\n",
      "\tCreating/Updating Dictionary..\n",
      "\n",
      "Training  D61_IND  ,Category:  31\n",
      "\tTesting  D61_IND\n",
      "\tCollecting  D61_IND\n",
      "\tCreating/Updating Dictionary..\n",
      "\n",
      "Training  D62_IND  ,Category:  32\n",
      "\tTesting  D62_IND\n",
      "\tCollecting  D62_IND\n",
      "\tCreating/Updating Dictionary..\n",
      "\n",
      "Training  D67_IND  ,Category:  33\n",
      "\tTesting  D67_IND\n",
      "\tCollecting  D67_IND\n",
      "\tCreating/Updating Dictionary..\n",
      "\n",
      "Training  D70_IND  ,Category:  34\n",
      "\tTesting  D70_IND\n",
      "\tCollecting  D70_IND\n",
      "\tCreating/Updating Dictionary..\n",
      "\n",
      "Training  D71_IND  ,Category:  35\n",
      "\tTesting  D71_IND\n",
      "\tCollecting  D71_IND\n",
      "\tCreating/Updating Dictionary..\n",
      "\n",
      "Training  D72_IND  ,Category:  36\n",
      "\tTesting  D72_IND\n",
      "\tCollecting  D72_IND\n",
      "\tCreating/Updating Dictionary..\n",
      "\n",
      "Training  D74_IND  ,Category:  37\n",
      "\tTesting  D74_IND\n",
      "\tCollecting  D74_IND\n",
      "\tCreating/Updating Dictionary..\n",
      "\n",
      "Training  D75_IND  ,Category:  38\n",
      "\tTesting  D75_IND\n",
      "\tCollecting  D75_IND\n",
      "\tCreating/Updating Dictionary..\n",
      "\n",
      "Training  D76_IND  ,Category:  39\n",
      "\tTesting  D76_IND\n",
      "\tCollecting  D76_IND\n",
      "\tCreating/Updating Dictionary..\n",
      "\n",
      "Training  D77_IND  ,Category:  40\n",
      "\tTesting  D77_IND\n",
      "\tCollecting  D77_IND\n",
      "\tCreating/Updating Dictionary..\n",
      "\n",
      "Training  D78_IND  ,Category:  41\n",
      "\tTesting  D78_IND\n",
      "\tCollecting  D78_IND\n",
      "\tCreating/Updating Dictionary..\n",
      "\n",
      "Training  D79_IND  ,Category:  42\n",
      "\tTesting  D79_IND\n",
      "\tCollecting  D79_IND\n",
      "\tCreating/Updating Dictionary..\n",
      "\n",
      "Training  D81_IND  ,Category:  43\n",
      "\tTesting  D81_IND\n",
      "\tCollecting  D81_IND\n",
      "\tCreating/Updating Dictionary..\n",
      "\n",
      "Training  D98_IND  ,Category:  44\n",
      "\tTesting  D98_IND\n",
      "\tCollecting  D98_IND\n",
      "\tCreating/Updating Dictionary..\n",
      "\n"
     ]
    }
   ],
   "source": [
    "customer_dict = {}\n",
    "emailID_cat = []\n",
    "i = []\n",
    "category = 1\n",
    "for i in featuresByModel:\n",
    "    print('Training ', i[0],\" ,Category: \",category)\n",
    "    i.append('EMAIL_ID')\n",
    "    x = train_df.select(i).cache()\n",
    "    y = test_df.select(i).cache()\n",
    "    \n",
    "    # run test data through vector assembler\n",
    "    assembler = VectorAssembler(inputCols = i[1:-1], outputCol = 'features')\n",
    "    train_assembler_output = assembler.transform(x)\n",
    "    test_assembler_output = assembler.transform(y)\n",
    "    \n",
    "    trainModel = train_assembler_output.select('features', i[0])\n",
    "    \n",
    "    train_df_0 = trainModel[trainModel[i[0]] == 0]\n",
    "    train_df_1 = trainModel[trainModel[i[0]] == 1]\n",
    "    \n",
    "    train_df_0 = train_df_0.sample(False, 0.15)\n",
    "    \n",
    "    trainModel = train_df_0.union(train_df_1)\n",
    "    \n",
    "    rfc = RandomForestClassifier(featuresCol = 'features', labelCol = i[0], maxDepth = 5, numTrees = 20)\n",
    "    rfc_model = rfc.fit(trainModel)\n",
    "\n",
    "    print('\\tTesting ', i[0])\n",
    "\n",
    "    testModel = test_assembler_output.select('features')\n",
    "    emailID_cat = test_assembler_output.select('EMAIL_ID', i[0])\n",
    "    rfc_prediction = rfc_model.transform(testModel)\n",
    "    \n",
    "    print('\\tCollecting ', i[0])\n",
    "    collected = rfc_prediction.collect()\n",
    "    emailID_cat = emailID_cat.collect()\n",
    "    print('\\tCreating/Updating Dictionary..\\n')\n",
    "    for row1,row2 in zip(collected,emailID_cat):\n",
    "        if row2['EMAIL_ID'] not in customer_dict:\n",
    "            customer_dict[row2['EMAIL_ID']] = {}\n",
    "            #Actual value, Probability vector, Predicted Value\n",
    "            customer_dict[row2['EMAIL_ID']][i[0]] = [row2[i[0]], row1['probability'][0]]\n",
    "        else:\n",
    "            customer_dict[row2['EMAIL_ID']][i[0]] = [row2[i[0]], row1['probability'][0]]\n",
    "    category+=1"
   ]
  },
  {
   "cell_type": "markdown",
   "metadata": {},
   "source": [
    "#### Making the list of `standardGuesses`"
   ]
  },
  {
   "cell_type": "code",
   "execution_count": 113,
   "metadata": {},
   "outputs": [],
   "source": [
    "standardGuesses = ['D51_IND',\n",
    "                   'D71_IND',\n",
    "                   'D54_IND',\n",
    "                   'D55_IND',\n",
    "                   'D36_IND']"
   ]
  },
  {
   "cell_type": "markdown",
   "metadata": {},
   "source": [
    "#### Extracting final guesses using `customer_dict` & `standardGuesses`"
   ]
  },
  {
   "cell_type": "code",
   "execution_count": 114,
   "metadata": {},
   "outputs": [],
   "source": [
    "finalGuesses = createFinalGuesses(customer_dict, standardGuesses)"
   ]
  },
  {
   "cell_type": "markdown",
   "metadata": {},
   "source": [
    "#### Extracting actual categories customer has shopped in"
   ]
  },
  {
   "cell_type": "code",
   "execution_count": 115,
   "metadata": {},
   "outputs": [],
   "source": [
    "actual = createActualValues(customer_dict)"
   ]
  },
  {
   "cell_type": "markdown",
   "metadata": {},
   "source": [
    "### Final Output:"
   ]
  },
  {
   "cell_type": "code",
   "execution_count": 116,
   "metadata": {},
   "outputs": [
    {
     "name": "stdout",
     "output_type": "stream",
     "text": [
      "Final Score: \n",
      " \t 60.4 %\n"
     ]
    }
   ],
   "source": [
    "finalScore = getFinalScore(finalGuesses, actual)\n",
    "print('Final Score: \\n', '\\t', finalScore, '%')"
   ]
  },
  {
   "cell_type": "code",
   "execution_count": null,
   "metadata": {},
   "outputs": [],
   "source": []
  }
 ],
 "metadata": {
  "kernelspec": {
   "display_name": "Python 3",
   "language": "python",
   "name": "python3"
  },
  "language_info": {
   "codemirror_mode": {
    "name": "ipython",
    "version": 3
   },
   "file_extension": ".py",
   "mimetype": "text/x-python",
   "name": "python",
   "nbconvert_exporter": "python",
   "pygments_lexer": "ipython3",
   "version": "3.5.2"
  }
 },
 "nbformat": 4,
 "nbformat_minor": 2
}
